{
 "cells": [
  {
   "cell_type": "code",
   "execution_count": 1,
   "id": "e6acdf62-a5af-4f1b-97c7-53ef842d4b63",
   "metadata": {},
   "outputs": [
    {
     "name": "stdout",
     "output_type": "stream",
     "text": [
      "AI BOOTCAMP\n",
      "PMACTOOB IA\n"
     ]
    }
   ],
   "source": [
    "input_string = \"AI BOOTCAMP\"\n",
    "print( input_string)\n",
    "reversed_string = input_string[::-1]\n",
    "print( reversed_string)"
   ]
  },
  {
   "cell_type": "code",
   "execution_count": 3,
   "id": "ea4d9656-3e38-48ad-834a-c6f7e8d7e47e",
   "metadata": {},
   "outputs": [
    {
     "name": "stdout",
     "output_type": "stream",
     "text": [
      "Reversed words: IA PMACTOOB\n"
     ]
    }
   ],
   "source": [
    "def reverse_words(s):\n",
    "    words = s.split()  # Split the string into words\n",
    "    reversed_words = [word[::-1] for word in words] \n",
    "    return ' '.join(reversed_words)  \n",
    "\n",
    "input_string = \"AI BOOTCAMP\"\n",
    "reversed_words_string = reverse_words(input_string)\n",
    "print(\"Reversed words:\", reversed_words_string)\n"
   ]
  },
  {
   "cell_type": "code",
   "execution_count": null,
   "id": "e558fd81-cbb0-4631-b5d7-486719d328fb",
   "metadata": {},
   "outputs": [],
   "source": []
  }
 ],
 "metadata": {
  "kernelspec": {
   "display_name": "Python 3 (ipykernel)",
   "language": "python",
   "name": "python3"
  },
  "language_info": {
   "codemirror_mode": {
    "name": "ipython",
    "version": 3
   },
   "file_extension": ".py",
   "mimetype": "text/x-python",
   "name": "python",
   "nbconvert_exporter": "python",
   "pygments_lexer": "ipython3",
   "version": "3.12.7"
  }
 },
 "nbformat": 4,
 "nbformat_minor": 5
}
